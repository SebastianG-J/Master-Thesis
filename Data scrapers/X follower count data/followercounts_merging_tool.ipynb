{
 "cells": [
  {
   "cell_type": "markdown",
   "metadata": {},
   "source": [
    "## Step 1: Import Required Libraries\n",
    "Before we begin, we need to import the required libraries. We’ll be using the Pandas and os libraries for this task. Here’s the code to import these libraries:"
   ]
  },
  {
   "cell_type": "code",
   "execution_count": 1,
   "metadata": {},
   "outputs": [
    {
     "name": "stdout",
     "output_type": "stream",
     "text": [
      "Requirement already satisfied: openpyxl in c:\\users\\sgj\\appdata\\local\\packages\\pythonsoftwarefoundation.python.3.10_qbz5n2kfra8p0\\localcache\\local-packages\\python310\\site-packages (3.1.5)\n",
      "Requirement already satisfied: et-xmlfile in c:\\users\\sgj\\appdata\\local\\packages\\pythonsoftwarefoundation.python.3.10_qbz5n2kfra8p0\\localcache\\local-packages\\python310\\site-packages (from openpyxl) (2.0.0)\n"
     ]
    }
   ],
   "source": [
    "!pip install openpyxl"
   ]
  },
  {
   "cell_type": "code",
   "execution_count": 1,
   "metadata": {},
   "outputs": [],
   "source": [
    "import pandas as pd\n",
    "import os"
   ]
  },
  {
   "cell_type": "markdown",
   "metadata": {},
   "source": [
    "## Step 2: Get the List of Excel Files \n",
    "Once we have imported the required libraries, the next step is to get the list of Excel files that we want to merge. We can do this using the os library. We’ll define a variable folder_path that contains the path to the folder where our Excel files are located. We’ll then use the os.listdir() method to get a list of all the files in that folder. We’ll then filter the list to only include Excel files using a list comprehension."
   ]
  },
  {
   "cell_type": "code",
   "execution_count": 2,
   "metadata": {},
   "outputs": [],
   "source": [
    "folder_path = 'C:/Users/sgj/OneDrive - Alfotech/Skrivebord/scraperfolder'\n",
    "files = [f for f in os.listdir(folder_path) if f.endswith('.xlsx')]"
   ]
  },
  {
   "cell_type": "markdown",
   "metadata": {},
   "source": [
    "## Step 3: Load the Data into Pandas Dataframes\n",
    "Now that we have the list of Excel files, we can load the data from each file into a separate Pandas dataframe. We’ll use a for loop to iterate over the list of files and load the data from each file into a separate dataframe using the pd.read_excel() method."
   ]
  },
  {
   "cell_type": "code",
   "execution_count": 3,
   "metadata": {},
   "outputs": [],
   "source": [
    "dataframes = []\n",
    "for file in files:\n",
    "    df = pd.read_excel(os.path.join(folder_path, file))\n",
    "    dataframes.append(df)"
   ]
  },
  {
   "cell_type": "markdown",
   "metadata": {},
   "source": [
    "## Step 4: Merge the Dataframes\n",
    "Now that we have loaded the data from each Excel file into a separate Pandas dataframe, we need to merge these dataframes into a single dataframe. We can do this using the pd.concat() method. We’ll pass the list of dataframes to this method to merge them into a single dataframe."
   ]
  },
  {
   "cell_type": "code",
   "execution_count": 4,
   "metadata": {},
   "outputs": [],
   "source": [
    "merged_df = pd.concat(dataframes)"
   ]
  },
  {
   "cell_type": "markdown",
   "metadata": {},
   "source": [
    "## Step 5: Export the Merged Dataframe\n",
    "Finally, we need to export the merged dataframe to a new Excel file. We can do this using the pd.to_excel() method. We’ll define a variable output_path that contains the path to the folder where we want to save the merged Excel file. We’ll then use the pd.to_excel() method to export the merged dataframe to a new Excel file."
   ]
  },
  {
   "cell_type": "code",
   "execution_count": 5,
   "metadata": {},
   "outputs": [],
   "source": [
    "output_path = 'C:/Users/sgj/OneDrive - Alfotech/Skrivebord/scraperfolder'\n",
    "merged_df.to_excel(os.path.join(output_path, 'x_follower_counts_merged.xlsx'), index=False)"
   ]
  }
 ],
 "metadata": {
  "kernelspec": {
   "display_name": "Python 3",
   "language": "python",
   "name": "python3"
  },
  "language_info": {
   "codemirror_mode": {
    "name": "ipython",
    "version": 3
   },
   "file_extension": ".py",
   "mimetype": "text/x-python",
   "name": "python",
   "nbconvert_exporter": "python",
   "pygments_lexer": "ipython3",
   "version": "3.10.11"
  }
 },
 "nbformat": 4,
 "nbformat_minor": 2
}
